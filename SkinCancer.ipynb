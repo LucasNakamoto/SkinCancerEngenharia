{
 "cells": [
  {
   "cell_type": "code",
   "execution_count": 23,
   "metadata": {},
   "outputs": [],
   "source": [
    "import numpy as np\n",
    "import os\n",
    "import tensorflow as tf\n",
    "import matplotlib.pyplot as plt\n",
    "\n",
    "from tensorflow.keras.preprocessing import image_dataset_from_directory"
   ]
  },
  {
   "cell_type": "code",
   "execution_count": 2,
   "metadata": {},
   "outputs": [
    {
     "name": "stdout",
     "output_type": "stream",
     "text": [
      "Found 2637 files belonging to 2 classes.\n",
      "Found 660 files belonging to 2 classes.\n"
     ]
    }
   ],
   "source": [
    "PATH = os.path.dirname(\"C:\\\\Users\\\\lucas\\\\OneDrive\\\\Documentos\\\\SkinCancer\\\\data\")\n",
    "\n",
    "train_dir = os.path.join(PATH, 'train')\n",
    "test_dir = os.path.join(PATH, 'test')\n",
    "\n",
    "BATCH_SIZE = 32\n",
    "IMG_SIZE = (160, 160)\n",
    "\n",
    "train_dataset = image_dataset_from_directory(train_dir,\n",
    "                                             shuffle=True,\n",
    "                                             batch_size=BATCH_SIZE,\n",
    "                                             image_size=IMG_SIZE)\n",
    "\n",
    "test_dataset = image_dataset_from_directory(test_dir,\n",
    "                                             shuffle=True,\n",
    "                                             batch_size=BATCH_SIZE,\n",
    "                                             image_size=IMG_SIZE)"
   ]
  },
  {
   "cell_type": "code",
   "execution_count": 3,
   "metadata": {},
   "outputs": [
    {
     "name": "stdout",
     "output_type": "stream",
     "text": [
      "Number of validation batches: 4\n",
      "Number of test batches: 17\n"
     ]
    }
   ],
   "source": [
    "val_batches = tf.data.experimental.cardinality(test_dataset)\n",
    "validation_dataset = test_dataset.take(val_batches // 5)\n",
    "test_dataset = test_dataset.skip(val_batches // 5)\n",
    "\n",
    "print('Number of validation batches: %d' % tf.data.experimental.cardinality(validation_dataset))\n",
    "print('Number of test batches: %d' % tf.data.experimental.cardinality(test_dataset))"
   ]
  },
  {
   "cell_type": "code",
   "execution_count": 4,
   "metadata": {},
   "outputs": [],
   "source": [
    "AUTOTUNE = tf.data.AUTOTUNE\n",
    "\n",
    "train_dataset = train_dataset.prefetch(buffer_size=AUTOTUNE)\n",
    "validation_dataset = validation_dataset.prefetch(buffer_size=AUTOTUNE)\n",
    "test_dataset = test_dataset.prefetch(buffer_size=AUTOTUNE)"
   ]
  },
  {
   "cell_type": "code",
   "execution_count": 5,
   "metadata": {},
   "outputs": [],
   "source": [
    "data_augmentation = tf.keras.Sequential([\n",
    "  tf.keras.layers.experimental.preprocessing.RandomFlip('horizontal'),\n",
    "  tf.keras.layers.experimental.preprocessing.RandomRotation(0.2),\n",
    "])"
   ]
  },
  {
   "cell_type": "code",
   "execution_count": 6,
   "metadata": {},
   "outputs": [],
   "source": [
    "preprocess_input = tf.keras.applications.mobilenet_v2.preprocess_input"
   ]
  },
  {
   "cell_type": "code",
   "execution_count": 7,
   "metadata": {},
   "outputs": [],
   "source": [
    "IMG_SHAPE = IMG_SIZE + (3,)\n",
    "base_model = tf.keras.applications.MobileNetV2(input_shape=IMG_SHAPE,\n",
    "                                               include_top=False,\n",
    "                                               weights='imagenet')"
   ]
  },
  {
   "cell_type": "code",
   "execution_count": 8,
   "metadata": {},
   "outputs": [
    {
     "name": "stdout",
     "output_type": "stream",
     "text": [
      "Number of layers in the base model:  154\n"
     ]
    }
   ],
   "source": [
    "print(\"Number of layers in the base model: \", len(base_model.layers))"
   ]
  },
  {
   "cell_type": "code",
   "execution_count": 9,
   "metadata": {},
   "outputs": [],
   "source": [
    "fine_tune_at = 100\n",
    "base_model.trainable = True\n",
    "\n",
    "for layer in base_model.layers[:fine_tune_at]:\n",
    "    layer.trainable =  False"
   ]
  },
  {
   "cell_type": "code",
   "execution_count": 10,
   "metadata": {},
   "outputs": [
    {
     "name": "stdout",
     "output_type": "stream",
     "text": [
      "(32, 5, 5, 1280)\n"
     ]
    }
   ],
   "source": [
    "image_batch, label_batch = next(iter(train_dataset))\n",
    "feature_batch = base_model(image_batch)\n",
    "print(feature_batch.shape)"
   ]
  },
  {
   "cell_type": "code",
   "execution_count": 11,
   "metadata": {},
   "outputs": [
    {
     "name": "stdout",
     "output_type": "stream",
     "text": [
      "(32, 1280)\n"
     ]
    }
   ],
   "source": [
    "global_average_layer = tf.keras.layers.GlobalAveragePooling2D()\n",
    "feature_batch_average = global_average_layer(feature_batch)\n",
    "print(feature_batch_average.shape)"
   ]
  },
  {
   "cell_type": "code",
   "execution_count": 12,
   "metadata": {},
   "outputs": [],
   "source": [
    "from tensorflow.keras.layers import InputLayer \n",
    "\n",
    "dense_layer = tf.keras.layers.Dense(units = 1280, activation = \"relu\", input_shape=(1280,32))\n",
    "\n",
    "prediction_layer = tf.keras.layers.Dense(1, activation = \"sigmoid\")\n",
    "prediction_batch = prediction_layer(feature_batch_average)"
   ]
  },
  {
   "cell_type": "code",
   "execution_count": 13,
   "metadata": {},
   "outputs": [],
   "source": [
    "inputs = tf.keras.Input(shape=(160, 160, 3))\n",
    "x = data_augmentation(inputs)\n",
    "x = preprocess_input(x)\n",
    "x = base_model(x, training=True)\n",
    "x = global_average_layer(x)\n",
    "x = tf.keras.layers.Dropout(0.2)(x)\n",
    "x = dense_layer(x)\n",
    "x = tf.keras.layers.Dropout(0.2)(x)\n",
    "outputs = prediction_layer(x)\n",
    "model = tf.keras.Model(inputs, outputs)"
   ]
  },
  {
   "cell_type": "code",
   "execution_count": 14,
   "metadata": {},
   "outputs": [
    {
     "name": "stdout",
     "output_type": "stream",
     "text": [
      "Model: \"model\"\n",
      "_________________________________________________________________\n",
      "Layer (type)                 Output Shape              Param #   \n",
      "=================================================================\n",
      "input_2 (InputLayer)         [(None, 160, 160, 3)]     0         \n",
      "_________________________________________________________________\n",
      "sequential (Sequential)      (None, 160, 160, 3)       0         \n",
      "_________________________________________________________________\n",
      "tf.math.truediv (TFOpLambda) (None, 160, 160, 3)       0         \n",
      "_________________________________________________________________\n",
      "tf.math.subtract (TFOpLambda (None, 160, 160, 3)       0         \n",
      "_________________________________________________________________\n",
      "mobilenetv2_1.00_160 (Functi (None, 5, 5, 1280)        2257984   \n",
      "_________________________________________________________________\n",
      "global_average_pooling2d (Gl (None, 1280)              0         \n",
      "_________________________________________________________________\n",
      "dropout (Dropout)            (None, 1280)              0         \n",
      "_________________________________________________________________\n",
      "dense (Dense)                (None, 1280)              1639680   \n",
      "_________________________________________________________________\n",
      "dropout_1 (Dropout)          (None, 1280)              0         \n",
      "_________________________________________________________________\n",
      "dense_1 (Dense)              (None, 1)                 1281      \n",
      "=================================================================\n",
      "Total params: 3,898,945\n",
      "Trainable params: 3,502,401\n",
      "Non-trainable params: 396,544\n",
      "_________________________________________________________________\n"
     ]
    }
   ],
   "source": [
    "base_learning_rate = 0.0001\n",
    "model.compile(optimizer=tf.keras.optimizers.Adam(lr=base_learning_rate),\n",
    "              loss=tf.keras.losses.BinaryCrossentropy(from_logits=True),\n",
    "              metrics=['accuracy'])\n",
    "model.summary()"
   ]
  },
  {
   "cell_type": "code",
   "execution_count": 15,
   "metadata": {},
   "outputs": [
    {
     "name": "stderr",
     "output_type": "stream",
     "text": [
      "C:\\Users\\lucas\\Anaconda3\\envs\\Keras\\lib\\site-packages\\tensorflow\\python\\keras\\backend.py:5090: UserWarning: \"`binary_crossentropy` received `from_logits=True`, but the `output` argument was produced by a sigmoid or softmax activation and thus does not represent logits. Was this intended?\"\n",
      "  '\"`binary_crossentropy` received `from_logits=True`, but the `output`'\n"
     ]
    },
    {
     "name": "stdout",
     "output_type": "stream",
     "text": [
      "4/4 [==============================] - 5s 347ms/step - loss: 0.7234 - accuracy: 0.4865\n"
     ]
    }
   ],
   "source": [
    "initial_epochs = 50\n",
    "\n",
    "loss0, accuracy0 = model.evaluate(validation_dataset)"
   ]
  },
  {
   "cell_type": "code",
   "execution_count": 25,
   "metadata": {},
   "outputs": [],
   "source": [
    "checkpoint_filepath = \"checkpoint.hdf5\"\n",
    "\n",
    "model_checkpoint_callback = tf.keras.callbacks.ModelCheckpoint(\n",
    "    filepath= checkpoint_filepath,\n",
    "    save_weights_only=True,\n",
    "    monitor='train_accuracy',\n",
    "    mode='max',\n",
    "    save_best_only=True)"
   ]
  },
  {
   "cell_type": "code",
   "execution_count": 17,
   "metadata": {},
   "outputs": [
    {
     "name": "stdout",
     "output_type": "stream",
     "text": [
      "Epoch 1/50\n",
      "83/83 [==============================] - 55s 623ms/step - loss: 0.4263 - accuracy: 0.7869 - val_loss: 0.3584 - val_accuracy: 0.8438\n",
      "Epoch 2/50\n",
      "83/83 [==============================] - 52s 621ms/step - loss: 0.3118 - accuracy: 0.8544 - val_loss: 0.2738 - val_accuracy: 0.8516\n",
      "Epoch 3/50\n",
      "83/83 [==============================] - 51s 617ms/step - loss: 0.2732 - accuracy: 0.8779 - val_loss: 0.3170 - val_accuracy: 0.8594\n",
      "Epoch 4/50\n",
      "83/83 [==============================] - 51s 619ms/step - loss: 0.2570 - accuracy: 0.8889 - val_loss: 0.2710 - val_accuracy: 0.8984\n",
      "Epoch 5/50\n",
      "83/83 [==============================] - 52s 623ms/step - loss: 0.2180 - accuracy: 0.9006 - val_loss: 0.2696 - val_accuracy: 0.8750\n",
      "Epoch 6/50\n",
      "83/83 [==============================] - 52s 620ms/step - loss: 0.1931 - accuracy: 0.9177 - val_loss: 0.3803 - val_accuracy: 0.8359\n",
      "Epoch 7/50\n",
      "83/83 [==============================] - 52s 620ms/step - loss: 0.1712 - accuracy: 0.9261 - val_loss: 0.3259 - val_accuracy: 0.8828\n",
      "Epoch 8/50\n",
      "83/83 [==============================] - 52s 620ms/step - loss: 0.1734 - accuracy: 0.9226 - val_loss: 0.3270 - val_accuracy: 0.8438\n",
      "Epoch 9/50\n",
      "83/83 [==============================] - 52s 619ms/step - loss: 0.1481 - accuracy: 0.9397 - val_loss: 0.4304 - val_accuracy: 0.8516\n",
      "Epoch 10/50\n",
      "83/83 [==============================] - 52s 620ms/step - loss: 0.1318 - accuracy: 0.9416 - val_loss: 0.4375 - val_accuracy: 0.8203\n",
      "Epoch 11/50\n",
      "83/83 [==============================] - 52s 620ms/step - loss: 0.1212 - accuracy: 0.9488 - val_loss: 0.2664 - val_accuracy: 0.9297\n",
      "Epoch 12/50\n",
      "83/83 [==============================] - 51s 617ms/step - loss: 0.1177 - accuracy: 0.9484 - val_loss: 0.4200 - val_accuracy: 0.8516\n",
      "Epoch 13/50\n",
      "83/83 [==============================] - 51s 618ms/step - loss: 0.0957 - accuracy: 0.9628 - val_loss: 0.2801 - val_accuracy: 0.8984\n",
      "Epoch 14/50\n",
      "83/83 [==============================] - 52s 619ms/step - loss: 0.0931 - accuracy: 0.9651 - val_loss: 0.3887 - val_accuracy: 0.9062\n",
      "Epoch 15/50\n",
      "83/83 [==============================] - 51s 618ms/step - loss: 0.0977 - accuracy: 0.9598 - val_loss: 0.5028 - val_accuracy: 0.8438\n",
      "Epoch 16/50\n",
      "83/83 [==============================] - 52s 620ms/step - loss: 0.0982 - accuracy: 0.9625 - val_loss: 0.5025 - val_accuracy: 0.8359\n",
      "Epoch 17/50\n",
      "83/83 [==============================] - 52s 620ms/step - loss: 0.0816 - accuracy: 0.9674 - val_loss: 0.3145 - val_accuracy: 0.8906\n",
      "Epoch 18/50\n",
      "83/83 [==============================] - 52s 619ms/step - loss: 0.0826 - accuracy: 0.9700 - val_loss: 0.5178 - val_accuracy: 0.8516\n",
      "Epoch 19/50\n",
      "83/83 [==============================] - 51s 617ms/step - loss: 0.0695 - accuracy: 0.9746 - val_loss: 0.7800 - val_accuracy: 0.8203\n",
      "Epoch 20/50\n",
      "83/83 [==============================] - 51s 617ms/step - loss: 0.0695 - accuracy: 0.9735 - val_loss: 0.6484 - val_accuracy: 0.8438\n",
      "Epoch 21/50\n",
      "83/83 [==============================] - 52s 619ms/step - loss: 0.0650 - accuracy: 0.9712 - val_loss: 0.2777 - val_accuracy: 0.8984\n",
      "Epoch 22/50\n",
      "83/83 [==============================] - 51s 616ms/step - loss: 0.0469 - accuracy: 0.9841 - val_loss: 0.5415 - val_accuracy: 0.8672\n",
      "Epoch 23/50\n",
      "83/83 [==============================] - 52s 621ms/step - loss: 0.0548 - accuracy: 0.9810 - val_loss: 0.5471 - val_accuracy: 0.8750\n",
      "Epoch 24/50\n",
      "83/83 [==============================] - 51s 617ms/step - loss: 0.0774 - accuracy: 0.9719 - val_loss: 0.2849 - val_accuracy: 0.8984\n",
      "Epoch 25/50\n",
      "83/83 [==============================] - 51s 618ms/step - loss: 0.0469 - accuracy: 0.9822 - val_loss: 0.4674 - val_accuracy: 0.8672\n",
      "Epoch 26/50\n",
      "83/83 [==============================] - 51s 617ms/step - loss: 0.0443 - accuracy: 0.9845 - val_loss: 0.7301 - val_accuracy: 0.8359\n",
      "Epoch 27/50\n",
      "83/83 [==============================] - 51s 619ms/step - loss: 0.0513 - accuracy: 0.9833 - val_loss: 0.3502 - val_accuracy: 0.9062\n",
      "Epoch 28/50\n",
      "83/83 [==============================] - 52s 624ms/step - loss: 0.0532 - accuracy: 0.9810 - val_loss: 0.3894 - val_accuracy: 0.8828\n",
      "Epoch 29/50\n",
      "83/83 [==============================] - 51s 618ms/step - loss: 0.0387 - accuracy: 0.9886 - val_loss: 0.6799 - val_accuracy: 0.8203\n",
      "Epoch 30/50\n",
      "83/83 [==============================] - 51s 619ms/step - loss: 0.0510 - accuracy: 0.9829 - val_loss: 0.5993 - val_accuracy: 0.8516\n",
      "Epoch 31/50\n",
      "83/83 [==============================] - 52s 619ms/step - loss: 0.0500 - accuracy: 0.9829 - val_loss: 0.3982 - val_accuracy: 0.9062\n",
      "Epoch 32/50\n",
      "83/83 [==============================] - 52s 619ms/step - loss: 0.0489 - accuracy: 0.9856 - val_loss: 0.6613 - val_accuracy: 0.8516\n",
      "Epoch 33/50\n",
      "83/83 [==============================] - 52s 626ms/step - loss: 0.0399 - accuracy: 0.9856 - val_loss: 0.5233 - val_accuracy: 0.8906\n",
      "Epoch 34/50\n",
      "83/83 [==============================] - 52s 619ms/step - loss: 0.0325 - accuracy: 0.9879 - val_loss: 0.3874 - val_accuracy: 0.9141\n",
      "Epoch 35/50\n",
      "83/83 [==============================] - 52s 619ms/step - loss: 0.0292 - accuracy: 0.9920 - val_loss: 0.7569 - val_accuracy: 0.8438\n",
      "Epoch 36/50\n",
      "83/83 [==============================] - 52s 620ms/step - loss: 0.0342 - accuracy: 0.9890 - val_loss: 0.6043 - val_accuracy: 0.8906\n",
      "Epoch 37/50\n",
      "83/83 [==============================] - 52s 619ms/step - loss: 0.0333 - accuracy: 0.9905 - val_loss: 0.6606 - val_accuracy: 0.8438\n",
      "Epoch 38/50\n",
      "83/83 [==============================] - 52s 620ms/step - loss: 0.0427 - accuracy: 0.9829 - val_loss: 0.6355 - val_accuracy: 0.8672\n",
      "Epoch 39/50\n",
      "83/83 [==============================] - 52s 627ms/step - loss: 0.0519 - accuracy: 0.9826 - val_loss: 0.7409 - val_accuracy: 0.8594\n",
      "Epoch 40/50\n",
      "83/83 [==============================] - 53s 631ms/step - loss: 0.0316 - accuracy: 0.9863 - val_loss: 0.5126 - val_accuracy: 0.8828\n",
      "Epoch 41/50\n",
      "83/83 [==============================] - 54s 655ms/step - loss: 0.0265 - accuracy: 0.9898 - val_loss: 0.5902 - val_accuracy: 0.8359\n",
      "Epoch 42/50\n",
      "83/83 [==============================] - 55s 656ms/step - loss: 0.0262 - accuracy: 0.9920 - val_loss: 0.7541 - val_accuracy: 0.8359\n",
      "Epoch 43/50\n",
      "83/83 [==============================] - 55s 660ms/step - loss: 0.0362 - accuracy: 0.9894 - val_loss: 0.5181 - val_accuracy: 0.8750\n",
      "Epoch 44/50\n",
      "83/83 [==============================] - 54s 652ms/step - loss: 0.0289 - accuracy: 0.9901 - val_loss: 0.3552 - val_accuracy: 0.9062\n",
      "Epoch 45/50\n",
      "83/83 [==============================] - 56s 668ms/step - loss: 0.0427 - accuracy: 0.9841 - val_loss: 0.5746 - val_accuracy: 0.8516\n",
      "Epoch 46/50\n",
      "83/83 [==============================] - 52s 620ms/step - loss: 0.0200 - accuracy: 0.9932 - val_loss: 0.4725 - val_accuracy: 0.9062\n",
      "Epoch 47/50\n",
      "83/83 [==============================] - 51s 609ms/step - loss: 0.0180 - accuracy: 0.9943 - val_loss: 1.0936 - val_accuracy: 0.8438\n",
      "Epoch 48/50\n",
      "83/83 [==============================] - 51s 611ms/step - loss: 0.0282 - accuracy: 0.9894 - val_loss: 0.5446 - val_accuracy: 0.8594\n",
      "Epoch 49/50\n",
      "83/83 [==============================] - 51s 611ms/step - loss: 0.0137 - accuracy: 0.9962 - val_loss: 0.4601 - val_accuracy: 0.8906\n",
      "Epoch 50/50\n",
      "83/83 [==============================] - 51s 612ms/step - loss: 0.0177 - accuracy: 0.9917 - val_loss: 0.7736 - val_accuracy: 0.8359\n"
     ]
    }
   ],
   "source": [
    "history = model.fit(train_dataset,\n",
    "                    epochs=initial_epochs,\n",
    "                    validation_data=validation_dataset,\n",
    "                   callbacks=[model_checkpoint_callback])"
   ]
  },
  {
   "cell_type": "code",
   "execution_count": 18,
   "metadata": {},
   "outputs": [],
   "source": [
    "model.load_weights(checkpoint_filepath)"
   ]
  },
  {
   "cell_type": "code",
   "execution_count": 19,
   "metadata": {},
   "outputs": [
    {
     "name": "stdout",
     "output_type": "stream",
     "text": [
      "17/17 [==============================] - 7s 390ms/step - loss: 0.3957 - accuracy: 0.8759\n",
      "Test accuracy : 0.8759398460388184\n"
     ]
    }
   ],
   "source": [
    "loss, accuracy = model.evaluate(test_dataset)\n",
    "print('Test accuracy :', accuracy)"
   ]
  },
  {
   "cell_type": "code",
   "execution_count": 24,
   "metadata": {},
   "outputs": [
    {
     "data": {
      "image/png": "[encoded data removed]",
      "text/plain": [
       "<Figure size 576x576 with 2 Axes>"
      ]
     },
     "metadata": {
      "needs_background": "light"
     },
     "output_type": "display_data"
    }
   ],
   "source": [
    "acc = history.history['accuracy']\n",
    "val_acc = history.history['val_accuracy']\n",
    "\n",
    "loss = history.history['loss']\n",
    "val_loss = history.history['val_loss']\n",
    "\n",
    "plt.figure(figsize=(8, 8))\n",
    "plt.subplot(2, 1, 1)\n",
    "plt.plot(acc, label='Training Accuracy')\n",
    "plt.plot(val_acc, label='Validation Accuracy')\n",
    "plt.legend(loc='lower right')\n",
    "plt.ylabel('Accuracy')\n",
    "plt.ylim([min(plt.ylim()),1])\n",
    "plt.title('Training and Validation Accuracy')\n",
    "\n",
    "plt.subplot(2, 1, 2)\n",
    "plt.plot(loss, label='Training Loss')\n",
    "plt.plot(val_loss, label='Validation Loss')\n",
    "plt.legend(loc='upper right')\n",
    "plt.ylabel('Cross Entropy')\n",
    "plt.ylim([0,1.0])\n",
    "plt.title('Training and Validation Loss')\n",
    "plt.xlabel('epoch')\n",
    "plt.show()"
   ]
  },
  {
   "cell_type": "code",
   "execution_count": null,
   "metadata": {},
   "outputs": [],
   "source": []
  }
 ],
 "metadata": {
  "kernelspec": {
   "display_name": "Python 3",
   "language": "python",
   "name": "python3"
  },
  "language_info": {
   "codemirror_mode": {
    "name": "ipython",
    "version": 3
   },
   "file_extension": ".py",
   "mimetype": "text/x-python",
   "name": "python",
   "nbconvert_exporter": "python",
   "pygments_lexer": "ipython3",
   "version": "3.7.4"
  }
 },
 "nbformat": 4,
 "nbformat_minor": 2
}
